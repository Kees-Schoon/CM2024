

















#importeer de library
import pandas as pd


# lees het excel bestand in met pd.read_xlsx, zie: https://pandas.pydata.org/docs/reference/api/pandas.read_excel.html
df = pd.read_excel('autoverzekering.xlsx')
# Toon de ingelezen inhoud
df











import seaborn as sns


#Is er een relatie tussen Woonplaats en het rijden van schade?
sns.countplot(df, x='AantalJaarRijbewijs',hue='SchadeAfgelopenJaar')


#Is er een relatie tussen Woonplaats en het rijden van schade?
sns.countplot(df, x='Woonplaats',hue='SchadeAfgelopenJaar')


#Is er een relatie tussen de kleur van de auto en het rijden van schade?
sns.countplot(df, x='KleurAuto',hue='SchadeAfgelopenJaar')





#we voegen de kolom leeftijd_bins toe aan het dataframe
df['leeftijd_bins'] = pd.cut(df['Leeftijd'], bins =[0,10,20,30,40,50])
#even kijken wat dat oplevert:
df.head()


#nu kunnen we de plot maken om te kijken of leeftijd invloed heeft op het rijden van schade
sns.countplot(df, x='leeftijd_bins',hue='SchadeAfgelopenJaar')














#We selecteren de kolommen die wel al uit integers bestaan
X_numeric = df[['Leeftijd','AantalJaarRijbewijs']]
#Vervolgens zetten we de andere kolommen om naar integers
X_dummies = pd.get_dummies(df[['Woonplaats', 'KleurAuto']], dtype = int)
#We plakken de twee dataframes weer aan elkaar
X = pd.concat([X_numeric, X_dummies], axis = 1)


#Zo ziet ons nieuwe dataframe eruit. Bestudeer zelf goed of je begrijpt wat er veranderd is.
X





y = df[['SchadeAfgelopenJaar']]





#We gebruiken numpy om random integers te genereren op basis waarvan we de rijen voor de test set selecteren.
import numpy as np
test_index = np.random.randint(0,30,size = 6)
test_index


#We gebruiken test_index om de train en de test set te genereren
X_test = X.iloc[test_index]
y_test = y.iloc[test_index]

X_train = X.drop(test_index)
y_train = y.drop(test_index)


#bekijk de dataframes om te zien of het goed is gegaan (controleer zelf eventueel de anderen)
X_test








#importeer het juiste package
from sklearn import tree


#generereer een Decision Tree Classifier
clf = tree.DecisionTreeClassifier()
#train de classifier op de train en test set met behulp van de .fit method
clf.fit(X_train,y_train)











X_test.iloc[[0]]


clf.predict(X_test.iloc[[0]])





y_test.iloc[[0]]





#En voor de volgende klanten in de testset?
for i in range(0, X_test.shape[0]):
    print('Bekijk rij nummer {}'.format(i))
    print('Voorspelling voor deze klant: {}'.format(clf.predict(X_test.iloc[[i]])))
    print('Werkelijke waarde voor deze klant: {}'.format(y_test['SchadeAfgelopenJaar'].iloc[i]))
    print('')








import matplotlib.pyplot as plt
plt.figure(figsize=(12,6))
tree.plot_tree(clf, feature_names = X.columns, class_names = ['Nee','Ja'], filled = True)




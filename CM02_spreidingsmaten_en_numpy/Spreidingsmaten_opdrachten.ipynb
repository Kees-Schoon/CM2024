{
 "cells": [
  {
   "cell_type": "markdown",
   "id": "8ee30943-1777-4817-a864-85447bdb4e89",
   "metadata": {
    "tags": []
   },
   "source": [
    "## Opdracht 1 \n",
    "**Maak deze opdracht ter voorbereiding op het college**"
   ]
  },
  {
   "cell_type": "code",
   "execution_count": 13,
   "id": "3af0b7d0-3131-4291-bfce-f43638a7381a",
   "metadata": {},
   "outputs": [],
   "source": [
    "import numpy as np"
   ]
  },
  {
   "cell_type": "code",
   "execution_count": 12,
   "id": "4eddf356-e39d-4904-b575-bb8f96a0131d",
   "metadata": {},
   "outputs": [],
   "source": [
    "X=[1, 3, 2, 4, 6, 2, 4, 2]"
   ]
  },
  {
   "cell_type": "code",
   "execution_count": 5,
   "id": "caa48dfe-f0de-43b0-8d84-8391b6f54396",
   "metadata": {},
   "outputs": [
    {
     "data": {
      "text/plain": [
       "3.0"
      ]
     },
     "execution_count": 5,
     "metadata": {},
     "output_type": "execute_result"
    }
   ],
   "source": [
    "gem = sum(X) / len(X)\n",
    "gem"
   ]
  },
  {
   "cell_type": "code",
   "execution_count": 8,
   "id": "f6dab5c5-1ee4-40b8-8ec5-64d5222bd0bf",
   "metadata": {},
   "outputs": [],
   "source": [
    "y = [(gem-x)**2 for x in X]"
   ]
  },
  {
   "cell_type": "code",
   "execution_count": 10,
   "id": "59d094b6-7f2a-4f01-9dea-540cdb32b01d",
   "metadata": {},
   "outputs": [
    {
     "data": {
      "text/plain": [
       "2.25"
      ]
     },
     "execution_count": 10,
     "metadata": {},
     "output_type": "execute_result"
    }
   ],
   "source": [
    "variantie = sum(y) / len(y)\n",
    "variantie"
   ]
  },
  {
   "cell_type": "code",
   "execution_count": 17,
   "id": "3e1a1f54-3f0b-4bec-9852-498b1ff252aa",
   "metadata": {},
   "outputs": [
    {
     "data": {
      "text/plain": [
       "np.float64(1.5)"
      ]
     },
     "execution_count": 17,
     "metadata": {},
     "output_type": "execute_result"
    }
   ],
   "source": [
    "standaarddeviatie = np.sqrt(variantie)\n",
    "standaarddeviatie"
   ]
  },
  {
   "cell_type": "code",
   "execution_count": 18,
   "id": "cf64756a-103d-4bf2-b811-1ff1fa3888a0",
   "metadata": {},
   "outputs": [
    {
     "data": {
      "text/plain": [
       "np.float64(2.25)"
      ]
     },
     "execution_count": 18,
     "metadata": {},
     "output_type": "execute_result"
    }
   ],
   "source": [
    "np.var(X)"
   ]
  },
  {
   "cell_type": "code",
   "execution_count": 19,
   "id": "84d4972c-10ae-43e0-b085-0982f5edfb24",
   "metadata": {},
   "outputs": [
    {
     "data": {
      "text/plain": [
       "np.float64(1.5)"
      ]
     },
     "execution_count": 19,
     "metadata": {},
     "output_type": "execute_result"
    }
   ],
   "source": [
    "np.std(X)"
   ]
  },
  {
   "cell_type": "markdown",
   "id": "88bfe81a-31a0-46bf-9ec3-e388291b04c9",
   "metadata": {},
   "source": [
    "## Opdracht 2\n",
    "Bepaal:\n",
    "\n",
    "Q1, mediaan Q2 en Q3\n",
    "\n",
    "Interkwartielafstand IQR\n",
    "\n",
    "Kleinste en grootste niet-uitschieter\n",
    "\n",
    "Zijn er zwakke en extreme uitschieters?\n",
    "\n",
    "Teken een boxplot (dit hoeft alleen handmatig!)"
   ]
  },
  {
   "cell_type": "code",
   "execution_count": 42,
   "id": "00814704-c4c9-4b34-850c-986473365b07",
   "metadata": {},
   "outputs": [],
   "source": [
    "X=[1, 3, 2, 4, 6, 2, 4, 2]"
   ]
  },
  {
   "cell_type": "code",
   "execution_count": 43,
   "id": "93cf790b-8eb6-4716-b3d1-dc8244e1b760",
   "metadata": {},
   "outputs": [
    {
     "data": {
      "text/plain": [
       "[1, 2, 2, 2, 3, 4, 4, 6]"
      ]
     },
     "execution_count": 43,
     "metadata": {},
     "output_type": "execute_result"
    }
   ],
   "source": [
    "X.sort()\n",
    "X"
   ]
  },
  {
   "cell_type": "code",
   "execution_count": 46,
   "id": "0a6cd103-d8db-414e-bf16-0f33f6897d0a",
   "metadata": {},
   "outputs": [
    {
     "data": {
      "text/plain": [
       "2.5"
      ]
     },
     "execution_count": 46,
     "metadata": {},
     "output_type": "execute_result"
    }
   ],
   "source": [
    "mid = len(X) / 2\n",
    "if mid % 1 == 0:\n",
    "    mid = int(mid)\n",
    "    mediaan = (X[mid - 1] + X[mid]) / 2\n",
    "else:\n",
    "    mid = int(mid - 0.5)\n",
    "    mediaan = X[mid]\n",
    "mediaan"
   ]
  },
  {
   "cell_type": "code",
   "execution_count": 67,
   "id": "d589f173-39c8-439b-9ef6-23a5b6dce30e",
   "metadata": {},
   "outputs": [
    {
     "data": {
      "text/plain": [
       "2.0"
      ]
     },
     "execution_count": 67,
     "metadata": {},
     "output_type": "execute_result"
    }
   ],
   "source": [
    "y = X[:int((len(X) / 2))]\n",
    "Q1 = len(y) / 2\n",
    "if Q1 % 1 == 0:\n",
    "    Q1 = int(Q1)\n",
    "    Q1 = (y[Q1 - 1] + y[Q1]) / 2\n",
    "else:\n",
    "    Q1 = int(Q1 - 0.5)\n",
    "    Q1 = y[Q1]\n",
    "Q1"
   ]
  },
  {
   "cell_type": "code",
   "execution_count": 69,
   "id": "fe66d49a-e38d-42ad-a941-3100982db05a",
   "metadata": {},
   "outputs": [
    {
     "data": {
      "text/plain": [
       "4.0"
      ]
     },
     "execution_count": 69,
     "metadata": {},
     "output_type": "execute_result"
    }
   ],
   "source": [
    "z = X[int((len(X) / 2)):]\n",
    "Q3 = len(z) / 2\n",
    "if Q3 % 1 == 0:\n",
    "    Q3 = int(Q3)\n",
    "    Q3 = (z[Q3 - 1] + z[Q3]) / 2\n",
    "else:\n",
    "    Q3 = int(Q3 - 0.5)\n",
    "    Q3 = z[Q3]\n",
    "Q3"
   ]
  },
  {
   "cell_type": "code",
   "execution_count": 71,
   "id": "49074e65-e132-495e-9f37-7cdbb92ea26f",
   "metadata": {},
   "outputs": [
    {
     "data": {
      "text/plain": [
       "2.0"
      ]
     },
     "execution_count": 71,
     "metadata": {},
     "output_type": "execute_result"
    }
   ],
   "source": [
    "IQR = Q3 - Q1\n",
    "IQR"
   ]
  },
  {
   "cell_type": "markdown",
   "id": "2947d8ec-9af8-41cc-b86a-f90dc499325d",
   "metadata": {},
   "source": [
    "Er zijn geen uitschieters in dit voorbeeld :)"
   ]
  },
  {
   "cell_type": "code",
   "execution_count": 77,
   "id": "a1f6b9e5-7e3f-4cc3-b561-bb5ac8dce22f",
   "metadata": {},
   "outputs": [],
   "source": [
    "Q2 = np.percentile(X, 50)"
   ]
  },
  {
   "cell_type": "code",
   "execution_count": 78,
   "id": "8d13e98a-37fc-4178-a0cf-a8a44cc3553d",
   "metadata": {},
   "outputs": [],
   "source": [
    "Q1 = np.percentile(X, 25)"
   ]
  },
  {
   "cell_type": "code",
   "execution_count": 79,
   "id": "7ca6c776-30bc-46d3-b7fa-0439565cc644",
   "metadata": {},
   "outputs": [],
   "source": [
    "Q3 = np.percentile(X, 75)"
   ]
  },
  {
   "cell_type": "code",
   "execution_count": 80,
   "id": "91cdd6b5-029e-4098-873b-36c832b94ac5",
   "metadata": {},
   "outputs": [],
   "source": [
    "IQR = Q3 - Q1"
   ]
  },
  {
   "cell_type": "code",
   "execution_count": null,
   "id": "368fc14d-3472-4444-9105-4023b32e1b4e",
   "metadata": {},
   "outputs": [],
   "source": []
  }
 ],
 "metadata": {
  "kernelspec": {
   "display_name": "Python 3 (ipykernel)",
   "language": "python",
   "name": "python3"
  },
  "language_info": {
   "codemirror_mode": {
    "name": "ipython",
    "version": 3
   },
   "file_extension": ".py",
   "mimetype": "text/x-python",
   "name": "python",
   "nbconvert_exporter": "python",
   "pygments_lexer": "ipython3",
   "version": "3.12.4"
  }
 },
 "nbformat": 4,
 "nbformat_minor": 5
}
